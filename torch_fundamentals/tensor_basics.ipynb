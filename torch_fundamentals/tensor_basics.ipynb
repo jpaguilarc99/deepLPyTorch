{
 "cells": [
  {
   "cell_type": "code",
   "execution_count": 1,
   "metadata": {},
   "outputs": [],
   "source": [
    "import torch"
   ]
  },
  {
   "cell_type": "code",
   "execution_count": 48,
   "metadata": {},
   "outputs": [
    {
     "data": {
      "text/plain": [
       "'cuda:0'"
      ]
     },
     "execution_count": 48,
     "metadata": {},
     "output_type": "execute_result"
    }
   ],
   "source": [
    "device = \"cuda:0\" if torch.cuda.is_available() else \"cpu\"\n",
    "device"
   ]
  },
  {
   "attachments": {},
   "cell_type": "markdown",
   "metadata": {},
   "source": [
    "**Empty tensors**"
   ]
  },
  {
   "cell_type": "code",
   "execution_count": 3,
   "metadata": {},
   "outputs": [
    {
     "data": {
      "text/plain": [
       "tensor([[[0., 0., 0.],\n",
       "         [0., 0., 0.]],\n",
       "\n",
       "        [[0., 0., 0.],\n",
       "         [0., 0., 0.]]])"
      ]
     },
     "execution_count": 3,
     "metadata": {},
     "output_type": "execute_result"
    }
   ],
   "source": [
    "x = torch.empty(2, 2, 3)\n",
    "x"
   ]
  },
  {
   "attachments": {},
   "cell_type": "markdown",
   "metadata": {},
   "source": [
    "**Random tensors**"
   ]
  },
  {
   "cell_type": "code",
   "execution_count": 4,
   "metadata": {},
   "outputs": [
    {
     "data": {
      "text/plain": [
       "tensor([[0.1373, 0.3772],\n",
       "        [0.4009, 0.0188]])"
      ]
     },
     "execution_count": 4,
     "metadata": {},
     "output_type": "execute_result"
    }
   ],
   "source": [
    "x = torch.rand(2, 2)\n",
    "x"
   ]
  },
  {
   "attachments": {},
   "cell_type": "markdown",
   "metadata": {},
   "source": [
    "**One's tensors**"
   ]
  },
  {
   "cell_type": "code",
   "execution_count": 13,
   "metadata": {},
   "outputs": [
    {
     "data": {
      "text/plain": [
       "(torch.int32,\n",
       " tensor([[1, 1],\n",
       "         [1, 1],\n",
       "         [1, 1]], dtype=torch.int32))"
      ]
     },
     "execution_count": 13,
     "metadata": {},
     "output_type": "execute_result"
    }
   ],
   "source": [
    "x = torch.ones(3, 2, dtype=torch.int32)\n",
    "x.dtype, x"
   ]
  },
  {
   "cell_type": "code",
   "execution_count": 14,
   "metadata": {},
   "outputs": [
    {
     "data": {
      "text/plain": [
       "torch.Size([3, 2])"
      ]
     },
     "execution_count": 14,
     "metadata": {},
     "output_type": "execute_result"
    }
   ],
   "source": [
    "x.size()"
   ]
  },
  {
   "attachments": {},
   "cell_type": "markdown",
   "metadata": {},
   "source": [
    "**Custom tensors**"
   ]
  },
  {
   "cell_type": "code",
   "execution_count": 15,
   "metadata": {},
   "outputs": [
    {
     "data": {
      "text/plain": [
       "tensor([2.5000, 0.1000])"
      ]
     },
     "execution_count": 15,
     "metadata": {},
     "output_type": "execute_result"
    }
   ],
   "source": [
    "x = torch.tensor([2.5, 0.1])\n",
    "x"
   ]
  },
  {
   "attachments": {},
   "cell_type": "markdown",
   "metadata": {},
   "source": [
    "**Tensors operations**"
   ]
  },
  {
   "cell_type": "code",
   "execution_count": 28,
   "metadata": {},
   "outputs": [
    {
     "name": "stdout",
     "output_type": "stream",
     "text": [
      "tensor([[2.3027, 2.1648],\n",
      "        [2.5719, 2.4407],\n",
      "        [2.3651, 0.2811]]) \n",
      " equals to \n",
      " tensor([[2.3027, 2.1648],\n",
      "        [2.5719, 2.4407],\n",
      "        [2.3651, 0.2811]]) \n",
      " equals to \n",
      " tensor([[2.3027, 2.1648],\n",
      "        [2.5719, 2.4407],\n",
      "        [2.3651, 0.2811]])\n"
     ]
    }
   ],
   "source": [
    "# Sum\n",
    "x = torch.rand(3, 2)\n",
    "y = torch.rand(3, 2)\n",
    "\n",
    "z = x + y\n",
    "z = torch.add(x, y)\n",
    "z = y.add_(x)\n",
    "print(f\"{x + y} \\n equals to \\n {torch.add(x, y)} \\n equals to \\n {y.add_(x)}\") "
   ]
  },
  {
   "cell_type": "code",
   "execution_count": 29,
   "metadata": {},
   "outputs": [
    {
     "name": "stdout",
     "output_type": "stream",
     "text": [
      "tensor([[-0.4193, -0.1796],\n",
      "        [-0.6336, -0.8320],\n",
      "        [-0.6611, -0.0064]]) \n",
      " equals to \n",
      " tensor([[-0.4193, -0.1796],\n",
      "        [-0.6336, -0.8320],\n",
      "        [-0.6611, -0.0064]]) \n",
      " equals to \n",
      " tensor([[0.4193, 0.1796],\n",
      "        [0.6336, 0.8320],\n",
      "        [0.6611, 0.0064]])\n"
     ]
    }
   ],
   "source": [
    "# Substract\n",
    "z = x - y \n",
    "z = torch.sub(x, y)\n",
    "z = y.sub_(x)\n",
    "print(f\"{x - y} \\n equals to \\n {torch.sub(x, y)} \\n equals to \\n {y.sub_(x)}\")"
   ]
  },
  {
   "cell_type": "code",
   "execution_count": 35,
   "metadata": {},
   "outputs": [
    {
     "data": {
      "text/plain": [
       "tensor([[0.0676, 0.1596],\n",
       "        [0.1979, 0.0340],\n",
       "        [0.1874, 0.0545]])"
      ]
     },
     "execution_count": 35,
     "metadata": {},
     "output_type": "execute_result"
    }
   ],
   "source": [
    "# Multiply\n",
    "x = torch.rand(3, 2)\n",
    "y = torch.rand(3, 1) \n",
    "z = torch.mul(x, y)\n",
    "z"
   ]
  },
  {
   "cell_type": "code",
   "execution_count": 50,
   "metadata": {},
   "outputs": [
    {
     "data": {
      "text/plain": [
       "tensor([[0.7871, 0.8474, 0.4546, 0.8212, 0.0473, 0.4079],\n",
       "        [1.4799, 0.9771, 0.7988, 1.2030, 0.3401, 0.5850],\n",
       "        [0.8682, 0.7517, 0.4848, 0.8045, 0.1267, 0.3959],\n",
       "        [1.5915, 0.9850, 0.8531, 1.2573, 0.3926, 0.6097]], device='cuda:0')"
      ]
     },
     "execution_count": 50,
     "metadata": {},
     "output_type": "execute_result"
    }
   ],
   "source": [
    "# Matrix multiplication\n",
    "x = torch.rand(4, 2).to(device) # 4x2 * 2x6 -> 4x6\n",
    "y = torch.rand(2, 6).to(device) \n",
    "z = torch.matmul(x, y)\n",
    "z"
   ]
  },
  {
   "attachments": {},
   "cell_type": "markdown",
   "metadata": {},
   "source": [
    "**Slicing Tensors**"
   ]
  },
  {
   "cell_type": "code",
   "execution_count": 59,
   "metadata": {},
   "outputs": [
    {
     "data": {
      "text/plain": [
       "tensor([[0.6427, 0.3589, 0.8240],\n",
       "        [0.6566, 0.9123, 0.5720],\n",
       "        [0.8314, 0.0420, 0.4158],\n",
       "        [0.6590, 0.9863, 0.0971]])"
      ]
     },
     "execution_count": 59,
     "metadata": {},
     "output_type": "execute_result"
    }
   ],
   "source": [
    "x = torch.rand(4, 3)\n",
    "x"
   ]
  },
  {
   "attachments": {},
   "cell_type": "markdown",
   "metadata": {},
   "source": [
    "Columnas"
   ]
  },
  {
   "cell_type": "code",
   "execution_count": 69,
   "metadata": {},
   "outputs": [
    {
     "data": {
      "text/plain": [
       "tensor([0.8240, 0.5720, 0.4158, 0.0971])"
      ]
     },
     "execution_count": 69,
     "metadata": {},
     "output_type": "execute_result"
    }
   ],
   "source": [
    "# Columna 3\n",
    "x[:,2]"
   ]
  },
  {
   "attachments": {},
   "cell_type": "markdown",
   "metadata": {},
   "source": [
    "Filas"
   ]
  },
  {
   "cell_type": "code",
   "execution_count": 68,
   "metadata": {},
   "outputs": [
    {
     "data": {
      "text/plain": [
       "tensor([0.6566, 0.9123, 0.5720])"
      ]
     },
     "execution_count": 68,
     "metadata": {},
     "output_type": "execute_result"
    }
   ],
   "source": [
    "# Fila 2\n",
    "x[1,:]"
   ]
  },
  {
   "attachments": {},
   "cell_type": "markdown",
   "metadata": {},
   "source": [
    "Elemento"
   ]
  },
  {
   "cell_type": "code",
   "execution_count": 72,
   "metadata": {},
   "outputs": [
    {
     "data": {
      "text/plain": [
       "tensor(0.0971)"
      ]
     },
     "execution_count": 72,
     "metadata": {},
     "output_type": "execute_result"
    }
   ],
   "source": [
    "# (4, 3) -> 0.0971\n",
    "x[3, 2]"
   ]
  },
  {
   "attachments": {},
   "cell_type": "markdown",
   "metadata": {},
   "source": [
    "**Reshaping tensors**"
   ]
  },
  {
   "cell_type": "code",
   "execution_count": 80,
   "metadata": {},
   "outputs": [
    {
     "data": {
      "text/plain": [
       "tensor([[0.2374, 0.0706, 0.3128, 0.4139],\n",
       "        [0.0306, 0.0936, 0.3751, 0.5962],\n",
       "        [0.9432, 0.5884, 0.9008, 0.0653],\n",
       "        [0.1363, 0.0387, 0.9381, 0.2071]])"
      ]
     },
     "execution_count": 80,
     "metadata": {},
     "output_type": "execute_result"
    }
   ],
   "source": [
    "x = torch.rand(4, 4)\n",
    "x"
   ]
  },
  {
   "cell_type": "code",
   "execution_count": 88,
   "metadata": {},
   "outputs": [
    {
     "data": {
      "text/plain": [
       "tensor([[0.2374, 0.0706, 0.3128, 0.4139, 0.0306, 0.0936, 0.3751, 0.5962],\n",
       "        [0.9432, 0.5884, 0.9008, 0.0653, 0.1363, 0.0387, 0.9381, 0.2071]])"
      ]
     },
     "execution_count": 88,
     "metadata": {},
     "output_type": "execute_result"
    }
   ],
   "source": [
    "# Flatten x\n",
    "# view(-1, n) infiere el shape de las filas\n",
    "y = x.view(-1, 8) # 4x4 tensor\n",
    "y"
   ]
  },
  {
   "attachments": {},
   "cell_type": "markdown",
   "metadata": {},
   "source": [
    "**PyTorch to Numpy**"
   ]
  },
  {
   "cell_type": "code",
   "execution_count": 91,
   "metadata": {},
   "outputs": [
    {
     "data": {
      "text/plain": [
       "numpy.ndarray"
      ]
     },
     "execution_count": 91,
     "metadata": {},
     "output_type": "execute_result"
    }
   ],
   "source": [
    "import numpy as np\n",
    "a = torch.ones(5)\n",
    "b = a.numpy()\n",
    "type(b)"
   ]
  },
  {
   "cell_type": "code",
   "execution_count": 92,
   "metadata": {},
   "outputs": [
    {
     "data": {
      "text/plain": [
       "torch.Tensor"
      ]
     },
     "execution_count": 92,
     "metadata": {},
     "output_type": "execute_result"
    }
   ],
   "source": [
    "a = np.ones(5)\n",
    "b = torch.from_numpy(a)\n",
    "type(b)"
   ]
  }
 ],
 "metadata": {
  "kernelspec": {
   "display_name": "pytorch",
   "language": "python",
   "name": "python3"
  },
  "language_info": {
   "codemirror_mode": {
    "name": "ipython",
    "version": 3
   },
   "file_extension": ".py",
   "mimetype": "text/x-python",
   "name": "python",
   "nbconvert_exporter": "python",
   "pygments_lexer": "ipython3",
   "version": "3.11.3"
  },
  "orig_nbformat": 4
 },
 "nbformat": 4,
 "nbformat_minor": 2
}
